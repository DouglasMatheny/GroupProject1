{
 "cells": [
  {
   "cell_type": "markdown",
   "metadata": {},
   "source": [
    "* Import Statements"
   ]
  },
  {
   "cell_type": "code",
   "execution_count": 1,
   "metadata": {},
   "outputs": [],
   "source": [
    "import pandas as pd\n",
    "import numpy as np\n",
    "import datetime\n",
    "#import geopandas\n",
    "#from shapely.geometry import Point\n",
    "#import matplotlib.pyplot as plt\n",
    "from citipy import citipy"
   ]
  },
  {
   "cell_type": "markdown",
   "metadata": {},
   "source": [
    "# Dataset Cleanup"
   ]
  },
  {
   "cell_type": "markdown",
   "metadata": {},
   "source": [
    "* DataType Cleanups.  Import the file.   Change the column data types."
   ]
  },
  {
   "cell_type": "code",
   "execution_count": 2,
   "metadata": {
    "scrolled": true
   },
   "outputs": [
    {
     "name": "stderr",
     "output_type": "stream",
     "text": [
      "C:\\ProgramData\\Anaconda3\\lib\\site-packages\\IPython\\core\\interactiveshell.py:3020: DtypeWarning: Columns (5,9) have mixed types. Specify dtype option on import or set low_memory=False.\n",
      "  interactivity=interactivity, compiler=compiler, result=result)\n"
     ]
    }
   ],
   "source": [
    "#Import the raw file\n",
    "ufo_df = pd.read_csv(\"Data/scrubbed.csv\")\n",
    "\n",
    "#Convert the datetime to a datetime.  Drop any bad rows.\n",
    "ufo_df['datetime']= pd.to_datetime(ufo_df['datetime'], errors='coerce')\n",
    "ufo_df = ufo_df.dropna(subset=['datetime'])\n",
    "\n",
    "#Convert the date posted to a datetime.  Drop any bad rows.\n",
    "ufo_df['date posted']= pd.to_datetime(ufo_df['date posted'], errors='coerce')\n",
    "ufo_df = ufo_df.dropna(subset=['date posted'])\n",
    "\n",
    "#Convert the duration (seconds) posted to a float.  Drop any bad rows.\n",
    "ufo_df['duration (seconds)']= pd.to_numeric(ufo_df['duration (seconds)'], errors='coerce')\n",
    "ufo_df = ufo_df.dropna(subset=['duration (seconds)'])\n",
    "\n",
    "#Convert the latitude posted to a number.  Drop any bad rows.\n",
    "ufo_df['latitude']= pd.to_numeric(ufo_df['latitude'], errors='coerce')\n",
    "ufo_df = ufo_df.dropna(subset=['latitude'])\n",
    "\n",
    "#Fix the name.  Drop any bad rows.\n",
    "ufo_df.rename(inplace=True,columns={'longitude ':'longitude', 'duration (seconds)':'duration' })\n",
    "ufo_df = ufo_df.dropna(subset=['longitude'])"
   ]
  },
  {
   "cell_type": "markdown",
   "metadata": {},
   "source": [
    "* Cleanup the column values for city and country.  Use citipy, with the latitude and longitude.  By the way these columns looked like they were swapped ('latitude' is 'longitude', and vice-versa)."
   ]
  },
  {
   "cell_type": "code",
   "execution_count": 3,
   "metadata": {},
   "outputs": [],
   "source": [
    "for i,row in ufo_df.iterrows():\n",
    "    ufo_df.at[i,'city'] = citipy.nearest_city(row['latitude'],row['longitude']).city_name\n",
    "    ufo_df.at[i,'country'] = citipy.nearest_city(row['latitude'],row['longitude']).country_code"
   ]
  },
  {
   "cell_type": "markdown",
   "metadata": {},
   "source": [
    "* Drop uneeded columns."
   ]
  },
  {
   "cell_type": "code",
   "execution_count": 4,
   "metadata": {},
   "outputs": [],
   "source": [
    "del ufo_df['duration (hours/min)']\n",
    "del ufo_df['comments']\n"
   ]
  },
  {
   "cell_type": "markdown",
   "metadata": {},
   "source": [
    "* Split out the datetime into seperate columns so its easier to work with."
   ]
  },
  {
   "cell_type": "code",
   "execution_count": 42,
   "metadata": {},
   "outputs": [
    {
     "data": {
      "text/html": [
       "<div>\n",
       "<style scoped>\n",
       "    .dataframe tbody tr th:only-of-type {\n",
       "        vertical-align: middle;\n",
       "    }\n",
       "\n",
       "    .dataframe tbody tr th {\n",
       "        vertical-align: top;\n",
       "    }\n",
       "\n",
       "    .dataframe thead th {\n",
       "        text-align: right;\n",
       "    }\n",
       "</style>\n",
       "<table border=\"1\" class=\"dataframe\">\n",
       "  <thead>\n",
       "    <tr style=\"text-align: right;\">\n",
       "      <th></th>\n",
       "      <th>datetime</th>\n",
       "      <th>city</th>\n",
       "      <th>state</th>\n",
       "      <th>country</th>\n",
       "      <th>shape</th>\n",
       "      <th>duration</th>\n",
       "      <th>date posted</th>\n",
       "      <th>latitude</th>\n",
       "      <th>longitude</th>\n",
       "      <th>year</th>\n",
       "      <th>month</th>\n",
       "      <th>day</th>\n",
       "      <th>hour</th>\n",
       "      <th>minute</th>\n",
       "    </tr>\n",
       "  </thead>\n",
       "  <tbody>\n",
       "    <tr>\n",
       "      <th>0</th>\n",
       "      <td>1949-10-10 20:30:00</td>\n",
       "      <td>san marcos</td>\n",
       "      <td>tx</td>\n",
       "      <td>us</td>\n",
       "      <td>cylinder</td>\n",
       "      <td>2700.0</td>\n",
       "      <td>2004-04-27</td>\n",
       "      <td>29.883056</td>\n",
       "      <td>-97.941111</td>\n",
       "      <td>1949</td>\n",
       "      <td>10</td>\n",
       "      <td>10</td>\n",
       "      <td>20</td>\n",
       "      <td>30</td>\n",
       "    </tr>\n",
       "    <tr>\n",
       "      <th>1</th>\n",
       "      <td>1949-10-10 21:00:00</td>\n",
       "      <td>san antonio</td>\n",
       "      <td>tx</td>\n",
       "      <td>us</td>\n",
       "      <td>light</td>\n",
       "      <td>7200.0</td>\n",
       "      <td>2005-12-16</td>\n",
       "      <td>29.384210</td>\n",
       "      <td>-98.581082</td>\n",
       "      <td>1949</td>\n",
       "      <td>10</td>\n",
       "      <td>10</td>\n",
       "      <td>21</td>\n",
       "      <td>0</td>\n",
       "    </tr>\n",
       "    <tr>\n",
       "      <th>2</th>\n",
       "      <td>1955-10-10 17:00:00</td>\n",
       "      <td>chester</td>\n",
       "      <td>NaN</td>\n",
       "      <td>gb</td>\n",
       "      <td>circle</td>\n",
       "      <td>20.0</td>\n",
       "      <td>2008-01-21</td>\n",
       "      <td>53.200000</td>\n",
       "      <td>-2.916667</td>\n",
       "      <td>1955</td>\n",
       "      <td>10</td>\n",
       "      <td>10</td>\n",
       "      <td>17</td>\n",
       "      <td>0</td>\n",
       "    </tr>\n",
       "    <tr>\n",
       "      <th>3</th>\n",
       "      <td>1956-10-10 21:00:00</td>\n",
       "      <td>port lavaca</td>\n",
       "      <td>tx</td>\n",
       "      <td>us</td>\n",
       "      <td>circle</td>\n",
       "      <td>20.0</td>\n",
       "      <td>2004-01-17</td>\n",
       "      <td>28.978333</td>\n",
       "      <td>-96.645833</td>\n",
       "      <td>1956</td>\n",
       "      <td>10</td>\n",
       "      <td>10</td>\n",
       "      <td>21</td>\n",
       "      <td>0</td>\n",
       "    </tr>\n",
       "    <tr>\n",
       "      <th>4</th>\n",
       "      <td>1960-10-10 20:00:00</td>\n",
       "      <td>kaneohe</td>\n",
       "      <td>hi</td>\n",
       "      <td>us</td>\n",
       "      <td>light</td>\n",
       "      <td>900.0</td>\n",
       "      <td>2004-01-22</td>\n",
       "      <td>21.418056</td>\n",
       "      <td>-157.803611</td>\n",
       "      <td>1960</td>\n",
       "      <td>10</td>\n",
       "      <td>10</td>\n",
       "      <td>20</td>\n",
       "      <td>0</td>\n",
       "    </tr>\n",
       "  </tbody>\n",
       "</table>\n",
       "</div>"
      ],
      "text/plain": [
       "             datetime         city state country     shape  duration  \\\n",
       "0 1949-10-10 20:30:00   san marcos    tx      us  cylinder    2700.0   \n",
       "1 1949-10-10 21:00:00  san antonio    tx      us     light    7200.0   \n",
       "2 1955-10-10 17:00:00      chester   NaN      gb    circle      20.0   \n",
       "3 1956-10-10 21:00:00  port lavaca    tx      us    circle      20.0   \n",
       "4 1960-10-10 20:00:00      kaneohe    hi      us     light     900.0   \n",
       "\n",
       "  date posted   latitude   longitude  year  month  day  hour  minute  \n",
       "0  2004-04-27  29.883056  -97.941111  1949     10   10    20      30  \n",
       "1  2005-12-16  29.384210  -98.581082  1949     10   10    21       0  \n",
       "2  2008-01-21  53.200000   -2.916667  1955     10   10    17       0  \n",
       "3  2004-01-17  28.978333  -96.645833  1956     10   10    21       0  \n",
       "4  2004-01-22  21.418056 -157.803611  1960     10   10    20       0  "
      ]
     },
     "execution_count": 42,
     "metadata": {},
     "output_type": "execute_result"
    }
   ],
   "source": [
    "ufo_df['year'] = ufo_df['datetime'].dt.year\n",
    "ufo_df['month'] = ufo_df['datetime'].dt.month\n",
    "ufo_df['day'] = ufo_df['datetime'].dt.day\n",
    "ufo_df['hour'] = ufo_df['datetime'].dt.hour\n",
    "ufo_df['minute'] = ufo_df['datetime'].dt.minute\n",
    "\n",
    "ufo_df.head()"
   ]
  },
  {
   "cell_type": "markdown",
   "metadata": {},
   "source": [
    "# Data Visualizations\n",
    "\n",
    "* Where do most ufo citings occur?  \n",
    "   Visualization:  Use a google map showing a spatial data visualization.  Probably be a bit more challenging.\n",
    "\n",
    "\n",
    "* Are ufo sitings increasing or decreasing.\n",
    "   Visualization: A bar chart showing year as the x axis, and the siting counts as the y axis.\n",
    "\n",
    "\n",
    "* Do you see more lights at night?\n",
    "    Visualization: Shapes versus Time of day.  Bar chart x is shape, time of day is y.\n",
    "* What is the best place to see a ufo?\n",
    "    Visualization: The top 10 places to see a UFO over the last 5 years.  Table or barchart\n",
    "\n",
    "For each of the top 10 places:\n",
    "\n",
    "* What month should you go?\n",
    "* What time should you look outside?\n",
    "* What shape should you look for?"
   ]
  },
  {
   "cell_type": "markdown",
   "metadata": {},
   "source": [
    "* Where do most ufo citings occur?"
   ]
  },
  {
   "cell_type": "markdown",
   "metadata": {},
   "source": [
    "Which country has the most ufo sightings?"
   ]
  },
  {
   "cell_type": "markdown",
   "metadata": {},
   "source": [
    "Which city has the most ufo sightings?"
   ]
  },
  {
   "cell_type": "markdown",
   "metadata": {},
   "source": [
    "Last 10 years.  Also shows how to extract the year from datetime."
   ]
  },
  {
   "cell_type": "code",
   "execution_count": null,
   "metadata": {},
   "outputs": [],
   "source": []
  }
 ],
 "metadata": {
  "kernelspec": {
   "display_name": "Python 3",
   "language": "python",
   "name": "python3"
  },
  "language_info": {
   "codemirror_mode": {
    "name": "ipython",
    "version": 3
   },
   "file_extension": ".py",
   "mimetype": "text/x-python",
   "name": "python",
   "nbconvert_exporter": "python",
   "pygments_lexer": "ipython3",
   "version": "3.7.1"
  }
 },
 "nbformat": 4,
 "nbformat_minor": 2
}
