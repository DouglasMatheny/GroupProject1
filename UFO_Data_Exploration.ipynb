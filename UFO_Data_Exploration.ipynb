{
 "cells": [
  {
   "cell_type": "markdown",
   "metadata": {},
   "source": [
    "# Dataset Cleanup tasks:\n",
    "* We need to cast the datetime column to a real datetime datatype.  Its a string now.\n",
    "* The city column is a free text column.  Not sure it will going work as is.\n",
    "  These are the options I can think of:\n",
    "\t* Use fuzzywuzzy.  Somehow locate the largest values used and then comapre those with the smaller ones and either replace  \n",
    "    or disgard the smaller ones.\n",
    "\t* Do something manual, which will be a pain considering there are 20k unique values.\n",
    "\t* Use a google API to use the longitude and lattitude to get a more standard description of the city/state/country.\n",
    "\n",
    "* I think we have to use the duration(seconds) column. The other one looks like free text and sometimes is inconsistent with  \n",
    "  the second column.\n",
    "4.  Shape column looks ok.\n",
    "5.  Comments is free text.  I don't think we have the skills yet to do anything with this.  Most commonly use words.\n",
    "6.  Date need to be converted to date.\n",
    "7.  Latitude and Longitude need to be converted to floats."
   ]
  },
  {
   "cell_type": "code",
   "execution_count": 24,
   "metadata": {},
   "outputs": [],
   "source": [
    "import pandas as pd\n",
    "from datetime import datetime\n",
    "\n",
    "#Import the raw file\n",
    "raw_df = pd.read_csv(\"Data/scrubbed.csv\")\n",
    "\n",
    "#Convert the datetime to a datetime.  Drop any bad rows.\n",
    "raw_df['datetime']= pd.to_datetime(raw_df['datetime'], errors='coerce')\n",
    "raw_df = raw_df.dropna(subset=['datetime'])\n",
    "\n",
    "#Convert the date posted to a datetime.  Drop any bad rows.\n",
    "raw_df['date posted']= pd.to_datetime(raw_df['date posted'], errors='coerce')\n",
    "raw_df = raw_df.dropna(subset=['date posted'])\n",
    "\n",
    "#Convert the duration (seconds) posted to a float.  Drop any bad rows.\n",
    "raw_df['duration (seconds)']= pd.to_numeric(raw_df['duration (seconds)'], errors='coerce')\n",
    "raw_df = raw_df.dropna(subset=['duration (seconds)'])\n",
    "\n",
    "#Convert the latitude posted to a number.  Drop any bad rows.\n",
    "raw_df['latitude']= pd.to_numeric(raw_df['latitude'], errors='coerce')\n",
    "raw_df = raw_df.dropna(subset=['latitude'])\n",
    "\n",
    "#raw_df['longitude']= pd.to_numeric(raw_df['longitude'], errors='coerce')\n",
    "#raw_df = raw_df.dropna(subset=['longitude'])"
   ]
  },
  {
   "cell_type": "code",
   "execution_count": 25,
   "metadata": {
    "scrolled": true
   },
   "outputs": [
    {
     "data": {
      "text/plain": [
       "datetime                datetime64[ns]\n",
       "city                            object\n",
       "state                           object\n",
       "country                         object\n",
       "shape                           object\n",
       "duration (seconds)             float64\n",
       "duration (hours/min)            object\n",
       "comments                        object\n",
       "date posted             datetime64[ns]\n",
       "latitude                       float64\n",
       "longitude                      float64\n",
       "dtype: object"
      ]
     },
     "execution_count": 25,
     "metadata": {},
     "output_type": "execute_result"
    }
   ],
   "source": [
    "raw_df.dtypes"
   ]
  },
  {
   "cell_type": "code",
   "execution_count": null,
   "metadata": {},
   "outputs": [],
   "source": []
  },
  {
   "cell_type": "markdown",
   "metadata": {},
   "source": [
    "# Data Visualizations\n",
    "\n",
    "* Where do most ufo citings occur?  \n",
    "   Visualization:  Use a google map showing a spatial data visualization.  Probably be a bit more challenging.\n",
    "\n",
    "\n",
    "* Are ufo sitings increasing or decreasing.\n",
    "   Visualization: A bar chart showing year as the x axis, and the siting counts as the y axis.\n",
    "\n",
    "\n",
    "* Do you see more lights at night?\n",
    "    Visualization: Shapes versus Time of day.  Bar chart x is shape, time of day is y.\n",
    "* What is the best place to see a ufo?\n",
    "    Visualization: The top 10 places to see a UFO over the last 5 years.  Table or barchart\n",
    "\n",
    "For each of the top 10 places:\n",
    "\n",
    "* What month should you go?\n",
    "* What time should you look outside?\n",
    "* What shape should you look for?"
   ]
  },
  {
   "cell_type": "code",
   "execution_count": null,
   "metadata": {},
   "outputs": [],
   "source": []
  }
 ],
 "metadata": {
  "kernelspec": {
   "display_name": "Python 3",
   "language": "python",
   "name": "python3"
  },
  "language_info": {
   "codemirror_mode": {
    "name": "ipython",
    "version": 3
   },
   "file_extension": ".py",
   "mimetype": "text/x-python",
   "name": "python",
   "nbconvert_exporter": "python",
   "pygments_lexer": "ipython3",
   "version": "3.7.1"
  }
 },
 "nbformat": 4,
 "nbformat_minor": 2
}
